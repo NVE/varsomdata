{
 "cells": [
  {
   "cell_type": "markdown",
   "metadata": {},
   "source": [
    "Varsom\n",
    "Sette opp en løsning i Jupyter / Colab som har følgende variabler:\n",
    "\n",
    "* Start dato\n",
    "* Slutt dato\n",
    "* Region(er) / Alle regioner\n",
    "* All data eller spesifikk undergrupper av data (i.e. faregrad, skredproblemer)\n",
    "* Fra API til at alt ligger i en pandas dataframe"
   ]
  },
  {
   "cell_type": "code",
   "execution_count": null,
   "metadata": {},
   "outputs": [],
   "source": []
  }
 ],
 "metadata": {
  "kernelspec": {
   "display_name": "Python 3",
   "language": "python",
   "name": "python3"
  },
  "language_info": {
   "codemirror_mode": {
    "name": "ipython",
    "version": 3
   },
   "file_extension": ".py",
   "mimetype": "text/x-python",
   "name": "python",
   "nbconvert_exporter": "python",
   "pygments_lexer": "ipython3",
   "version": "3.7.3"
  }
 },
 "nbformat": 4,
 "nbformat_minor": 2
}
