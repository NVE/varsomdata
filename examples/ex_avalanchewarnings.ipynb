{
 "cells": [
  {
   "cell_type": "markdown",
   "metadata": {},
   "source": [
    "# Examples for using the AvalancheWarning class in getforecastapi.py"
   ]
  },
  {
   "cell_type": "code",
   "execution_count": 1,
   "metadata": {},
   "outputs": [],
   "source": [
    "# Make sure varsomdata is in your Pythonpath\n",
    "import sys, os\n",
    "sys.path.append(os.path.dirname(os.path.abspath(os.getcwd())))\n",
    "#print(sys.executable, \"\\n\", sys.path)\n",
    "\n",
    "import datetime as dt\n",
    "from pprint import pprint\n",
    "from varsomdata import getforecastapi as gf\n",
    "\n",
    "__author__ = 'kmunve'"
   ]
  },
  {
   "cell_type": "markdown",
   "metadata": {},
   "source": [
    "## Set the request parameters\n",
    "Here we will request the avalanche warnings issued for ther region Nordenskiöldland (ID: 3003) for the period 3rd to 7th of december 2018."
   ]
  },
  {
   "cell_type": "code",
   "execution_count": 2,
   "metadata": {},
   "outputs": [],
   "source": [
    "region_ids = [3003]\n",
    "\n",
    "from_date = dt.date(2018, 12, 3)\n",
    "to_date = dt.date(2018, 12, 7)"
   ]
  },
  {
   "cell_type": "markdown",
   "metadata": {},
   "source": [
    "We use get the content of the avalanche warnings as a JSON object"
   ]
  },
  {
   "cell_type": "code",
   "execution_count": 3,
   "metadata": {},
   "outputs": [
    {
     "name": "stdout",
     "output_type": "stream",
     "text": [
      "{'Author': 'Odd-Arne@NVE',\n",
      " 'AvalancheDanger': 'Det er store lokale forskjeller i hvor det ligger snø '\n",
      "                    'etter den kraftige vinden fra øst siste dagene. Med '\n",
      "                    'ventet vær ventes det påbygging av fokksnøflak i '\n",
      "                    'leområder, hovedsaklig mot V og SV. Observasjoner '\n",
      "                    'forteller om skytende sprekker i fersk fokksnø på lørdag. '\n",
      "                    'Mange steder ligger det også et vedvarende svakt lag rett '\n",
      "                    'under fokksnøen som gir tydelig faretegn som drønn når '\n",
      "                    'det kollapser. Vær spesielt oppmerksom der det tidligere '\n",
      "                    'lå snø fra tidligere i vinter, der er kantkornlaget mest '\n",
      "                    'trolig å treffe på. Kantkornlaget har god '\n",
      "                    'bruddforplantning når den kollapser. \\n'\n",
      "                    '\\n'\n",
      "                    'Det vil være mulig for en skiløper eller skuterkjører å '\n",
      "                    'løse ut skred områder hvor vinden har lagt fra seg snø. ',\n",
      " 'AvalancheProblems': [...],\n",
      " 'CountyList': [...],\n",
      " 'CurrentWeaklayers': 'Vind fra NØ/Ø/SØ har ført til at det har bygget seg opp '\n",
      "                      'flak av fokksnø i leområder liggende oppå et løsere lag '\n",
      "                      'med nysnø. I områder med fortsatt pålagring viser '\n",
      "                      'observasjoner ustabilitet tilknyttet fokksnøen.\\n'\n",
      "                      'Observasjon fra Breinosa onsdag viste at over ca 400 '\n",
      "                      'moh har det bygget seg opp et kantkornlag over skaren. '\n",
      "                      'Tilsvarende kantkornlag er også observert opp Larsbreen '\n",
      "                      'og Longyearbreen, der det gir tydelig drønn i snøen. '\n",
      "                      'Kantkornlaget ligger nå rett under fokksnøen og er lett '\n",
      "                      'å påvirke.',\n",
      " 'DangerLevel': '3',\n",
      " 'DangerLevelName': '3 Betydelig',\n",
      " 'EmergencyWarning': 'Ikke gitt',\n",
      " 'LangKey': 1,\n",
      " 'LatestAvalancheActivity': 'Det ble torsdag rapportert om et fjernutløst '\n",
      "                            'snøskred i vestvendt terreng mellom Longyearbreen '\n",
      "                            'og Sarkofagen, trolig på kantkornet snø. Lørdag '\n",
      "                            'morgen er det rapportert om noen få str 1 skred '\n",
      "                            'fra Gruvefjellet som stoppet langt oppe i '\n",
      "                            'fjellsiden.',\n",
      " 'LatestObservations': 'Siste døgn er det registrert østlig frisk bris, med '\n",
      "                       'kuling i kastene på Gruvefjellet.',\n",
      " 'MainText': 'Komplekse forhold med flere svake lag. Vær spesielt forsiktig i '\n",
      "             'leområder der et vedvarende svakt lag kan ligge under fokksnøen.',\n",
      " 'MountainWeather': {...},\n",
      " 'MunicipalityList': [...],\n",
      " 'NextWarningTime': '2018-12-03T16:00:00',\n",
      " 'PreviousWarningRegId': 169695,\n",
      " 'PublishTime': '2018-12-02T15:30:35.42',\n",
      " 'RegId': 169753,\n",
      " 'RegionId': 3003,\n",
      " 'RegionName': 'Nordenskiöld Land',\n",
      " 'RegionTypeId': 10,\n",
      " 'RegionTypeName': 'A',\n",
      " 'SnowSurface': 'Snøoverflaten er stort sett vindpåvirket etter dels sterk '\n",
      "                'vind fra øst i løpet av siste dager. I områder der vinden har '\n",
      "                'tatt godt er det lite til ingen løssnø igjen. I leområder der '\n",
      "                'vinden har lagt fra seg snø er det myke fokksnøflak, '\n",
      "                'hovedsaklig i forsenkninger og bak rygger. Ellers er det mye '\n",
      "                'stein synlig i terrenget. Totalt har det falt 20-40 cm nysnø '\n",
      "                'i løpet av uka, muligens ennå mer i østlige deler av '\n",
      "                'varslingsområdet.',\n",
      " 'UtmEast': 520332,\n",
      " 'UtmNorth': 8663904,\n",
      " 'UtmZone': 33,\n",
      " 'ValidFrom': '2018-12-03T00:00:00',\n",
      " 'ValidTo': '2018-12-03T23:59:59'}\n"
     ]
    }
   ],
   "source": [
    "warnings_as_json = gf.get_avalanche_warnings_as_json(region_ids, from_date, to_date, lang_key=1)\n",
    "pprint(warnings_as_json[0], depth=1)"
   ]
  },
  {
   "cell_type": "markdown",
   "metadata": {},
   "source": [
    "## Convert to AvalancheWarning object\n",
    "The JSON content is stored as a Python dictionary. We can use *AvalancheWarning.from_dict()* to get an AvalancheWarning object."
   ]
  },
  {
   "cell_type": "code",
   "execution_count": 4,
   "metadata": {},
   "outputs": [
    {
     "name": "stdout",
     "output_type": "stream",
     "text": [
      "Avalanche warning for Nordenskiöld Land (3003) - 2018-12-03\n",
      "Danger level: 3\n",
      "Komplekse forhold med flere svake lag. Vær spesielt forsiktig i leområder der et vedvarende svakt lag kan ligge under fokksnøen.\n",
      "Avalanche problems:\n",
      "Problem 1: Vedvarende svakt lag - flakskred (Trigger: Liten tilleggsbelastning, Size: 3 - Store)\n",
      "Problem 2: Fokksnø - flakskred (Trigger: Liten tilleggsbelastning, Size: 2 - Middels)\n",
      "http://www.varsom.no/snoskredvarsling/varsel/Nordenski%C3%B6ld%20Land/2018-12-03\n"
     ]
    }
   ],
   "source": [
    "warnings_as_obj = []\n",
    "for w in warnings_as_json:\n",
    "    _aw = gf.AvalancheWarning()\n",
    "    _aw.from_dict(w)\n",
    "    warnings_as_obj.append(_aw)\n",
    "    \n",
    "print(warnings_as_obj[0])"
   ]
  },
  {
   "cell_type": "markdown",
   "metadata": {},
   "source": [
    "We can also use the convenient function *get_avalanche_warnings()*."
   ]
  },
  {
   "cell_type": "code",
   "execution_count": 5,
   "metadata": {},
   "outputs": [
    {
     "name": "stdout",
     "output_type": "stream",
     "text": [
      "Avalanche warning for Nordenskiöld Land (3003) - 2018-12-03\n",
      "Danger level: 3\n",
      "Komplekse forhold med flere svake lag. Vær spesielt forsiktig i leområder der et vedvarende svakt lag kan ligge under fokksnøen.\n",
      "Avalanche problems:\n",
      "Problem 1: Vedvarende svakt lag - flakskred (Trigger: Liten tilleggsbelastning, Size: 3 - Store)\n",
      "Problem 2: Fokksnø - flakskred (Trigger: Liten tilleggsbelastning, Size: 2 - Middels)\n",
      "http://www.varsom.no/snoskredvarsling/varsel/Nordenski%C3%B6ld%20Land/2018-12-03\n"
     ]
    }
   ],
   "source": [
    "avalanche_warnings = gf.get_avalanche_warnings(region_ids, from_date, to_date, lang_key=1)\n",
    "print(avalanche_warnings[0])"
   ]
  },
  {
   "cell_type": "markdown",
   "metadata": {},
   "source": [
    "## Using AvalancheWarnings in pandas\n",
    "It can be convenient to analyze the content of the avalanche warnings using Python's [pandas](https://pandas.pydata.org/).\n",
    "Pandas DataFrames can be easily created from a list of dictionaries. Therefore we pass *as_dict=True* to *get_avalanche_warnings*."
   ]
  },
  {
   "cell_type": "code",
   "execution_count": 6,
   "metadata": {},
   "outputs": [],
   "source": [
    "import pandas as pd"
   ]
  },
  {
   "cell_type": "code",
   "execution_count": 7,
   "metadata": {},
   "outputs": [
    {
     "data": {
      "text/html": [
       "<div>\n",
       "<style scoped>\n",
       "    .dataframe tbody tr th:only-of-type {\n",
       "        vertical-align: middle;\n",
       "    }\n",
       "\n",
       "    .dataframe tbody tr th {\n",
       "        vertical-align: top;\n",
       "    }\n",
       "\n",
       "    .dataframe thead th {\n",
       "        text-align: right;\n",
       "    }\n",
       "</style>\n",
       "<table border=\"1\" class=\"dataframe\">\n",
       "  <thead>\n",
       "    <tr style=\"text-align: right;\">\n",
       "      <th></th>\n",
       "      <th>author</th>\n",
       "      <th>avalanche_danger</th>\n",
       "      <th>avalanche_problem_1_advice</th>\n",
       "      <th>avalanche_problem_1_cause_id</th>\n",
       "      <th>avalanche_problem_1_cause_name</th>\n",
       "      <th>avalanche_problem_1_destructive_size_ext_id</th>\n",
       "      <th>avalanche_problem_1_destructive_size_ext_name</th>\n",
       "      <th>avalanche_problem_1_distribution_id</th>\n",
       "      <th>avalanche_problem_1_distribution_name</th>\n",
       "      <th>avalanche_problem_1_exposed_height_1</th>\n",
       "      <th>...</th>\n",
       "      <th>region_id</th>\n",
       "      <th>region_name</th>\n",
       "      <th>region_type_id</th>\n",
       "      <th>region_type_name</th>\n",
       "      <th>snow_surface</th>\n",
       "      <th>utm_east</th>\n",
       "      <th>utm_north</th>\n",
       "      <th>utm_zone</th>\n",
       "      <th>valid_from</th>\n",
       "      <th>valid_to</th>\n",
       "    </tr>\n",
       "  </thead>\n",
       "  <tbody>\n",
       "    <tr>\n",
       "      <th>0</th>\n",
       "      <td>Odd-Arne@NVE</td>\n",
       "      <td>Det er store lokale forskjeller i hvor det lig...</td>\n",
       "      <td>Unngå ferdsel i skredterreng (løsne og utløpso...</td>\n",
       "      <td>18</td>\n",
       "      <td>Kantkornet snø over skarelag</td>\n",
       "      <td>3</td>\n",
       "      <td>3 - Store</td>\n",
       "      <td>2</td>\n",
       "      <td>Noen bratte heng</td>\n",
       "      <td>200</td>\n",
       "      <td>...</td>\n",
       "      <td>3003</td>\n",
       "      <td>Nordenskiöld Land</td>\n",
       "      <td>10</td>\n",
       "      <td>A</td>\n",
       "      <td>Snøoverflaten er stort sett vindpåvirket etter...</td>\n",
       "      <td>520332</td>\n",
       "      <td>8663904</td>\n",
       "      <td>33</td>\n",
       "      <td>2018-12-03</td>\n",
       "      <td>2018-12-03 23:59:59</td>\n",
       "    </tr>\n",
       "    <tr>\n",
       "      <th>1</th>\n",
       "      <td>Odd-Arne@NVE</td>\n",
       "      <td>Det er store lokale forskjeller i hvor det lig...</td>\n",
       "      <td>Unngå ferdsel i skredterreng (løsne og utløpso...</td>\n",
       "      <td>18</td>\n",
       "      <td>Kantkornet snø over skarelag</td>\n",
       "      <td>3</td>\n",
       "      <td>3 - Store</td>\n",
       "      <td>2</td>\n",
       "      <td>Noen bratte heng</td>\n",
       "      <td>200</td>\n",
       "      <td>...</td>\n",
       "      <td>3003</td>\n",
       "      <td>Nordenskiöld Land</td>\n",
       "      <td>10</td>\n",
       "      <td>A</td>\n",
       "      <td>Det falt omkring 20-40 cm nysnø forrige uke ut...</td>\n",
       "      <td>520332</td>\n",
       "      <td>8663904</td>\n",
       "      <td>33</td>\n",
       "      <td>2018-12-04</td>\n",
       "      <td>2018-12-04 23:59:59</td>\n",
       "    </tr>\n",
       "    <tr>\n",
       "      <th>2</th>\n",
       "      <td>jostein@nve</td>\n",
       "      <td>\\nDet vil framleis vere mogeleg å løyse ut skr...</td>\n",
       "      <td>Unngå ferdsel i skredterreng (løsne og utløpso...</td>\n",
       "      <td>18</td>\n",
       "      <td>Kantkornet snø over skarelag</td>\n",
       "      <td>3</td>\n",
       "      <td>3 - Store</td>\n",
       "      <td>2</td>\n",
       "      <td>Noen bratte heng</td>\n",
       "      <td>300</td>\n",
       "      <td>...</td>\n",
       "      <td>3003</td>\n",
       "      <td>Nordenskiöld Land</td>\n",
       "      <td>10</td>\n",
       "      <td>A</td>\n",
       "      <td>Snøoverflata er vindpakka, men stort sett mjuk...</td>\n",
       "      <td>520332</td>\n",
       "      <td>8663904</td>\n",
       "      <td>33</td>\n",
       "      <td>2018-12-05</td>\n",
       "      <td>2018-12-05 23:59:59</td>\n",
       "    </tr>\n",
       "  </tbody>\n",
       "</table>\n",
       "<p>3 rows × 101 columns</p>\n",
       "</div>"
      ],
      "text/plain": [
       "         author                                   avalanche_danger  \\\n",
       "0  Odd-Arne@NVE  Det er store lokale forskjeller i hvor det lig...   \n",
       "1  Odd-Arne@NVE  Det er store lokale forskjeller i hvor det lig...   \n",
       "2   jostein@nve  \\nDet vil framleis vere mogeleg å løyse ut skr...   \n",
       "\n",
       "                          avalanche_problem_1_advice  \\\n",
       "0  Unngå ferdsel i skredterreng (løsne og utløpso...   \n",
       "1  Unngå ferdsel i skredterreng (løsne og utløpso...   \n",
       "2  Unngå ferdsel i skredterreng (løsne og utløpso...   \n",
       "\n",
       "   avalanche_problem_1_cause_id avalanche_problem_1_cause_name  \\\n",
       "0                            18   Kantkornet snø over skarelag   \n",
       "1                            18   Kantkornet snø over skarelag   \n",
       "2                            18   Kantkornet snø over skarelag   \n",
       "\n",
       "   avalanche_problem_1_destructive_size_ext_id  \\\n",
       "0                                            3   \n",
       "1                                            3   \n",
       "2                                            3   \n",
       "\n",
       "  avalanche_problem_1_destructive_size_ext_name  \\\n",
       "0                                     3 - Store   \n",
       "1                                     3 - Store   \n",
       "2                                     3 - Store   \n",
       "\n",
       "   avalanche_problem_1_distribution_id avalanche_problem_1_distribution_name  \\\n",
       "0                                    2                      Noen bratte heng   \n",
       "1                                    2                      Noen bratte heng   \n",
       "2                                    2                      Noen bratte heng   \n",
       "\n",
       "   avalanche_problem_1_exposed_height_1         ...          region_id  \\\n",
       "0                                   200         ...               3003   \n",
       "1                                   200         ...               3003   \n",
       "2                                   300         ...               3003   \n",
       "\n",
       "         region_name  region_type_id region_type_name  \\\n",
       "0  Nordenskiöld Land              10                A   \n",
       "1  Nordenskiöld Land              10                A   \n",
       "2  Nordenskiöld Land              10                A   \n",
       "\n",
       "                                        snow_surface utm_east  utm_north  \\\n",
       "0  Snøoverflaten er stort sett vindpåvirket etter...   520332    8663904   \n",
       "1  Det falt omkring 20-40 cm nysnø forrige uke ut...   520332    8663904   \n",
       "2  Snøoverflata er vindpakka, men stort sett mjuk...   520332    8663904   \n",
       "\n",
       "   utm_zone valid_from            valid_to  \n",
       "0        33 2018-12-03 2018-12-03 23:59:59  \n",
       "1        33 2018-12-04 2018-12-04 23:59:59  \n",
       "2        33 2018-12-05 2018-12-05 23:59:59  \n",
       "\n",
       "[3 rows x 101 columns]"
      ]
     },
     "execution_count": 7,
     "metadata": {},
     "output_type": "execute_result"
    }
   ],
   "source": [
    "_d = gf.get_avalanche_warnings(region_ids, from_date, to_date, lang_key=1, as_dict=True)\n",
    "df = pd.DataFrame(_d)\n",
    "df.head(3)"
   ]
  },
  {
   "cell_type": "code",
   "execution_count": null,
   "metadata": {},
   "outputs": [],
   "source": []
  }
 ],
 "metadata": {
  "kernelspec": {
   "display_name": "Python 3",
   "language": "python",
   "name": "python3"
  },
  "language_info": {
   "codemirror_mode": {
    "name": "ipython",
    "version": 3
   },
   "file_extension": ".py",
   "mimetype": "text/x-python",
   "name": "python",
   "nbconvert_exporter": "python",
   "pygments_lexer": "ipython3",
   "version": "3.7.3"
  }
 },
 "nbformat": 4,
 "nbformat_minor": 1
}
